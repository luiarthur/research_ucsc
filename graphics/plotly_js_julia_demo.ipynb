{
 "cells": [
  {
   "cell_type": "markdown",
   "metadata": {},
   "source": [
    "# Load Library"
   ]
  },
  {
   "cell_type": "code",
   "execution_count": 1,
   "metadata": {
    "collapsed": false
   },
   "outputs": [],
   "source": [
    "using PlotlyJS;"
   ]
  },
  {
   "cell_type": "code",
   "execution_count": 2,
   "metadata": {
    "collapsed": false
   },
   "outputs": [
    {
     "ename": "MethodError",
     "evalue": "MethodError: `fd` has no method matching fd(::Base64EncodePipe)",
     "output_type": "error",
     "traceback": [
      "MethodError: `fd` has no method matching fd(::Base64EncodePipe)",
      ""
     ]
    }
   ],
   "source": [
    "n = 100\n",
    "x = randn(100)\n",
    "y = randn(100)\n",
    "\n",
    "s1 = scatter(x=x,y=y,mode=:markers)\n",
    "l1 = Layout(title=\"a single scatter plot\") \n",
    "plot(s1,l1)"
   ]
  },
  {
   "cell_type": "code",
   "execution_count": null,
   "metadata": {
    "collapsed": true
   },
   "outputs": [],
   "source": []
  }
 ],
 "metadata": {
  "kernelspec": {
   "display_name": "Julia 0.4.5",
   "language": "julia",
   "name": "julia-0.4"
  },
  "language_info": {
   "file_extension": ".jl",
   "mimetype": "application/julia",
   "name": "julia",
   "version": "0.4.5"
  }
 },
 "nbformat": 4,
 "nbformat_minor": 0
}
